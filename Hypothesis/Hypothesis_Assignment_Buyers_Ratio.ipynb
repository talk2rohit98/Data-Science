{
 "cells": [
  {
   "cell_type": "markdown",
   "id": "902b6939",
   "metadata": {},
   "source": [
    "# Import Libraries"
   ]
  },
  {
   "cell_type": "code",
   "execution_count": 1,
   "id": "8e6f23f5",
   "metadata": {},
   "outputs": [],
   "source": [
    "%matplotlib inline\n",
    "import numpy as np\n",
    "import scipy as sp\n",
    "import pandas as pd\n",
    "import statsmodels.api as sm\n",
    "import statsmodels.formula.api as smf\n",
    "import matplotlib as mpl\n",
    "import matplotlib.pyplot as plt\n",
    "import seaborn as sns\n",
    "from statsmodels.stats.proportion import proportions_ztest"
   ]
  },
  {
   "cell_type": "code",
   "execution_count": null,
   "id": "90879dab",
   "metadata": {},
   "outputs": [],
   "source": [
    "BuyerRatio_df =pd.read_csv('BuyerRatio.csv')\n",
    "BuyerRatio_df.head()"
   ]
  },
  {
   "cell_type": "code",
   "execution_count": null,
   "id": "240cf4b5",
   "metadata": {},
   "outputs": [],
   "source": [
    "BuyerRatio_df.describe()"
   ]
  },
  {
   "cell_type": "code",
   "execution_count": null,
   "id": "167da9be",
   "metadata": {},
   "outputs": [],
   "source": [
    "East_mean=BuyerRatio_df['East'].mean()\n",
    "West_mean=BuyerRatio_df['West'].mean()\n",
    "North_mean=BuyerRatio_df['North'].mean()\n",
    "South_mean=BuyerRatio_df['South'].mean()\n",
    "\n",
    "print('East Mean = ',East_mean)\n",
    "print('West Mean = ',West_mean)\n",
    "print('North Mean = ',North_mean)\n",
    "print('South Mean = ',South_mean)"
   ]
  },
  {
   "cell_type": "markdown",
   "id": "a8210edf",
   "metadata": {},
   "source": [
    "# The Null and Alternative Hypothesis\n",
    "\n",
    " H0:μ1=μ2=μ3=μ4=μ5   All proportion are equal\n",
    "\n",
    " Ha:μ1≠μ2≠μ3≠μ4  All proportion are not equal"
   ]
  },
  {
   "cell_type": "code",
   "execution_count": null,
   "id": "87479b22",
   "metadata": {},
   "outputs": [],
   "source": [
    "sns.distplot(BuyerRatio_df['East'])\n",
    "sns.distplot(BuyerRatio_df['West'])\n",
    "sns.distplot(BuyerRatio_df['North'])\n",
    "sns.distplot(BuyerRatio_df['South'])\n",
    "plt.legend(['East','West','North','South'])"
   ]
  },
  {
   "cell_type": "code",
   "execution_count": null,
   "id": "446441e8",
   "metadata": {},
   "outputs": [],
   "source": [
    "sns.boxplot(data=[BuyerRatio_df['East'],BuyerRatio_df['West'],BuyerRatio_df['North'],BuyerRatio_df['South']])\n",
    "plt.legend(['East','West','North','South'])"
   ]
  },
  {
   "cell_type": "code",
   "execution_count": null,
   "id": "24e1b5f7",
   "metadata": {},
   "outputs": [],
   "source": [
    "alpha=0.05\n",
    "Male = [50,142,131,70]\n",
    "Female=[435,1523,1356,750]\n",
    "Sales=[Male,Female]\n",
    "print(Sales)"
   ]
  },
  {
   "cell_type": "code",
   "execution_count": null,
   "id": "3f826414",
   "metadata": {},
   "outputs": [],
   "source": [
    "chiStats = sp.stats.chi2_contingency(Sales)\n",
    "print('Test t=%f p-value=%f' % (chiStats[0], chiStats[1]))\n",
    "print('Interpret by p-Value')\n",
    "if chiStats[1] < 0.05:\n",
    "  print('we reject null hypothesis')\n",
    "  print('All proportion are not equal')\n",
    "else:\n",
    "  print('we accept null hypothesis')\n",
    "  print('All proportion are equal')"
   ]
  },
  {
   "cell_type": "code",
   "execution_count": null,
   "id": "d576c30a",
   "metadata": {},
   "outputs": [],
   "source": [
    "#critical value = 0.1\n",
    "alpha = 0.05\n",
    "critical_value = sp.stats.chi2.ppf(q = 1 - alpha,df=chiStats[2])\n",
    "observed_chi_val = chiStats[0]\n",
    "print('Interpret by critical value')\n",
    "if observed_chi_val <= critical_value:\n",
    "    print ('Null hypothesis cannot be rejected (variables are not related)')\n",
    "else:\n",
    "    print ('Null hypothesis cannot be excepted (variables are not independent)')"
   ]
  },
  {
   "cell_type": "code",
   "execution_count": null,
   "id": "35df6714",
   "metadata": {},
   "outputs": [],
   "source": []
  },
  {
   "cell_type": "code",
   "execution_count": null,
   "id": "ad6d1582",
   "metadata": {},
   "outputs": [],
   "source": []
  },
  {
   "cell_type": "code",
   "execution_count": null,
   "id": "9f358cdc",
   "metadata": {},
   "outputs": [],
   "source": []
  }
 ],
 "metadata": {
  "kernelspec": {
   "display_name": "Python 3",
   "language": "python",
   "name": "python3"
  },
  "language_info": {
   "codemirror_mode": {
    "name": "ipython",
    "version": 3
   },
   "file_extension": ".py",
   "mimetype": "text/x-python",
   "name": "python",
   "nbconvert_exporter": "python",
   "pygments_lexer": "ipython3",
   "version": "3.8.8"
  }
 },
 "nbformat": 4,
 "nbformat_minor": 5
}
