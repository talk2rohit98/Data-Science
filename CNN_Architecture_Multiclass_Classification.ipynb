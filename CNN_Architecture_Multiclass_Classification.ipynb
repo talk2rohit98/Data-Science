{
 "cells": [
  {
   "cell_type": "markdown",
   "id": "3eba8519",
   "metadata": {},
   "source": [
    "### 1. Import Necessasary libraries"
   ]
  },
  {
   "cell_type": "code",
   "execution_count": 1,
   "id": "421f88a0",
   "metadata": {},
   "outputs": [],
   "source": [
    "import tensorflow as tf"
   ]
  },
  {
   "cell_type": "code",
   "execution_count": 5,
   "id": "a73f852b",
   "metadata": {},
   "outputs": [
    {
     "data": {
      "text/plain": [
       "'2.6.0'"
      ]
     },
     "execution_count": 5,
     "metadata": {},
     "output_type": "execute_result"
    }
   ],
   "source": [
    "tf.__version__"
   ]
  },
  {
   "cell_type": "markdown",
   "id": "2aaa9009",
   "metadata": {},
   "source": [
    "### 2. Import Data using Image Augumentation\n",
    "\n",
    "Image augmentation is a technique of **altering the existing data to create some more data** for the model training process. In other words, it is the process of **artificially expanding the available dataset** for training a deep learning model."
   ]
  },
  {
   "cell_type": "code",
   "execution_count": 2,
   "id": "6249ff88",
   "metadata": {},
   "outputs": [],
   "source": [
    "from keras.preprocessing.image import ImageDataGenerator"
   ]
  },
  {
   "cell_type": "markdown",
   "id": "14c43466",
   "metadata": {},
   "source": [
    "### 2[a] Image Preprocessing using Image Augumentation"
   ]
  },
  {
   "cell_type": "code",
   "execution_count": 3,
   "id": "3dd80f21",
   "metadata": {},
   "outputs": [],
   "source": [
    "train_data = ImageDataGenerator(shear_range=0.2,zoom_range=0.2,rescale=1./255,horizontal_flip=True,vertical_flip=True)\n",
    "test_data  = ImageDataGenerator(rescale=1./255)"
   ]
  },
  {
   "cell_type": "code",
   "execution_count": 29,
   "id": "c6369f3c",
   "metadata": {},
   "outputs": [
    {
     "name": "stdout",
     "output_type": "stream",
     "text": [
      "Found 110 images belonging to 5 classes.\n",
      "Found 110 images belonging to 5 classes.\n"
     ]
    }
   ],
   "source": [
    "training_folder   = train_data.flow_from_directory(directory = 'D:\\DLCVNLP\\Parent',\n",
    "                                                   target_size=(64, 64),\n",
    "                                                   color_mode='rgb',\n",
    "                                                   class_mode='categorical')\n",
    "                                                  #\"categorical\" will be 2D one-hot encoded labels,\n",
    "validation_folder = test_data.flow_from_directory(directory = 'D:\\DLCVNLP\\Parent',target_size= (64,64))"
   ]
  },
  {
   "cell_type": "code",
   "execution_count": 34,
   "id": "12aaa1c3",
   "metadata": {},
   "outputs": [
    {
     "data": {
      "text/plain": [
       "{'iyan': 0, 'john': 1, 'mary': 2, 'superman': 3, 'suresh': 4}"
      ]
     },
     "execution_count": 34,
     "metadata": {},
     "output_type": "execute_result"
    }
   ],
   "source": [
    "training_folder.class_indices"
   ]
  },
  {
   "cell_type": "markdown",
   "id": "7909f4d9",
   "metadata": {},
   "source": [
    "### 3. Model Building - CNN Architecture"
   ]
  },
  {
   "cell_type": "code",
   "execution_count": 7,
   "id": "989db7ca",
   "metadata": {},
   "outputs": [],
   "source": [
    "from keras.models import Sequential\n",
    "from keras.layers import Conv2D,MaxPooling2D,Dense,Flatten"
   ]
  },
  {
   "cell_type": "markdown",
   "id": "cb6af556",
   "metadata": {},
   "source": [
    "#### 3.1 Create the Pipeline"
   ]
  },
  {
   "cell_type": "code",
   "execution_count": 30,
   "id": "79d89a59",
   "metadata": {},
   "outputs": [
    {
     "name": "stdout",
     "output_type": "stream",
     "text": [
      "Model: \"sequential_13\"\n",
      "_________________________________________________________________\n",
      "Layer (type)                 Output Shape              Param #   \n",
      "=================================================================\n",
      "conv2d_12 (Conv2D)           (None, 64, 64, 32)        896       \n",
      "_________________________________________________________________\n",
      "max_pooling2d_6 (MaxPooling2 (None, 32, 32, 32)        0         \n",
      "_________________________________________________________________\n",
      "flatten_3 (Flatten)          (None, 32768)             0         \n",
      "_________________________________________________________________\n",
      "dense_4 (Dense)              (None, 128)               4194432   \n",
      "_________________________________________________________________\n",
      "dense_5 (Dense)              (None, 5)                 645       \n",
      "=================================================================\n",
      "Total params: 4,195,973\n",
      "Trainable params: 4,195,973\n",
      "Non-trainable params: 0\n",
      "_________________________________________________________________\n"
     ]
    }
   ],
   "source": [
    "classifier = Sequential()\n",
    "\n",
    "#classifier.add(Conv2D(input_shape = (256, 256,3),filters = 32, kernel_size = (3,3),strides = 1,padding = 'same',activation = 'relu'))\n",
    "#classifier.add(MaxPooling2D(pool_size = (2,2),strides = 2))\n",
    "\n",
    "classifier.add(Conv2D(input_shape = (64, 64,3),filters = 32, kernel_size = (3,3),strides = 1,padding = 'same',activation = 'relu'))\n",
    "classifier.add(MaxPooling2D(pool_size = (2,2),strides = 2))\n",
    "\n",
    "#classifier.add(Conv2D(filters = 64, kernel_size = (3,3),strides = 1,padding = 'same',activation = 'relu'))\n",
    "#classifier.add(MaxPooling2D(pool_size = (2,2),strides = 2))\n",
    "\n",
    "classifier.add(Flatten())\n",
    "\n",
    "classifier.add(Dense(units = 128,activation = 'relu'))\n",
    "#classifier.add(Dense(units = 50,activation = 'relu'))\n",
    "\n",
    "classifier.add(Dense(units = 5,activation = 'softmax'))\n",
    "\n",
    "classifier.summary()"
   ]
  },
  {
   "cell_type": "markdown",
   "id": "65a88934",
   "metadata": {},
   "source": [
    "#### 3.2 Architecture Compilation"
   ]
  },
  {
   "cell_type": "code",
   "execution_count": 31,
   "id": "d49b9b38",
   "metadata": {},
   "outputs": [],
   "source": [
    "classifier.compile(optimizer='adam',loss=['categorical_crossentropy'], metrics=['accuracy'])"
   ]
  },
  {
   "cell_type": "markdown",
   "id": "5a4c2e24",
   "metadata": {},
   "source": [
    "### 4. Model Training"
   ]
  },
  {
   "cell_type": "code",
   "execution_count": 32,
   "id": "03cb98f2",
   "metadata": {},
   "outputs": [
    {
     "name": "stdout",
     "output_type": "stream",
     "text": [
      "Epoch 1/10\n",
      "2/2 [==============================] - ETA: 0s - loss: 3.2174 - accuracy: 0.2391WARNING:tensorflow:Your input ran out of data; interrupting training. Make sure that your dataset or generator can generate at least `steps_per_epoch * epochs` batches (in this case, 5 batches). You may need to use the repeat() function when building your dataset.\n",
      "2/2 [==============================] - 85s 79s/step - loss: 3.2174 - accuracy: 0.2391 - val_loss: 5.6106 - val_accuracy: 0.2727\n",
      "Epoch 2/10\n",
      "2/2 [==============================] - 28s 13s/step - loss: 4.0112 - accuracy: 0.3906\n",
      "Epoch 3/10\n",
      "2/2 [==============================] - 26s 12s/step - loss: 2.2266 - accuracy: 0.2656\n",
      "Epoch 4/10\n",
      "2/2 [==============================] - 26s 14s/step - loss: 1.6346 - accuracy: 0.2969\n",
      "Epoch 5/10\n",
      "2/2 [==============================] - 18s 6s/step - loss: 1.3183 - accuracy: 0.4565\n",
      "Epoch 6/10\n",
      "2/2 [==============================] - 27s 11s/step - loss: 1.2373 - accuracy: 0.6250\n",
      "Epoch 7/10\n",
      "2/2 [==============================] - 18s 6s/step - loss: 1.2703 - accuracy: 0.5217\n",
      "Epoch 8/10\n",
      "2/2 [==============================] - 16s 5s/step - loss: 0.9544 - accuracy: 0.7609\n",
      "Epoch 9/10\n",
      "2/2 [==============================] - 45s 23s/step - loss: 0.9944 - accuracy: 0.6719\n",
      "Epoch 10/10\n",
      "2/2 [==============================] - 54s 26s/step - loss: 1.0360 - accuracy: 0.5938\n"
     ]
    },
    {
     "data": {
      "text/plain": [
       "<keras.callbacks.History at 0x1a21a134ca0>"
      ]
     },
     "execution_count": 32,
     "metadata": {},
     "output_type": "execute_result"
    }
   ],
   "source": [
    "model = classifier.fit(x=training_folder,epochs=10,validation_data = validation_folder, steps_per_epoch= 2, validation_steps = 5,verbose=1)\n",
    "model"
   ]
  },
  {
   "cell_type": "markdown",
   "id": "346874f9",
   "metadata": {},
   "source": [
    "### 5. Create a h5 file for deployement"
   ]
  },
  {
   "cell_type": "code",
   "execution_count": 33,
   "id": "22191888",
   "metadata": {},
   "outputs": [],
   "source": [
    "classifier.save('multiclass_model.h5')"
   ]
  },
  {
   "cell_type": "markdown",
   "id": "ed9cbdcd",
   "metadata": {},
   "source": [
    "### 6. Make Predictions"
   ]
  },
  {
   "cell_type": "code",
   "execution_count": 36,
   "id": "f6b240f9",
   "metadata": {},
   "outputs": [
    {
     "name": "stdout",
     "output_type": "stream",
     "text": [
      "john\n"
     ]
    }
   ],
   "source": [
    "# Part 3 - Making new predictions\n",
    "from keras.models import load_model\n",
    "import numpy as np\n",
    "from keras.preprocessing import image\n",
    "\n",
    "test_image = image.load_img(r'D:\\DLCVNLP\\Image_Test_Files\\superman_test\\IMG_1554.jpg', target_size = (64, 64))\n",
    "test_image = image.img_to_array(test_image)\n",
    "test_image = np.expand_dims(test_image, axis = 0)\n",
    "\n",
    "# load model\n",
    "model = load_model('multiclass_model.h5')\n",
    "result = model.predict(test_image)\n",
    "\n",
    "if result[0][0] == 1:\n",
    "    prediction = 'iyan'\n",
    "    print(prediction)\n",
    "\n",
    "elif result[0][1] ==1:\n",
    "    prediction = 'john'\n",
    "    print(prediction)\n",
    "    \n",
    "elif result[0][2]==1:\n",
    "    print(\"mary\")\n",
    "    \n",
    "elif result[0][3]==1:\n",
    "    print(\"superman\")\n",
    "    \n",
    "else:\n",
    "    print(\"suresh\")"
   ]
  },
  {
   "cell_type": "markdown",
   "id": "94c8543a",
   "metadata": {},
   "source": [
    "### 7. Model Performance"
   ]
  },
  {
   "cell_type": "code",
   "execution_count": 39,
   "id": "5a28c796",
   "metadata": {},
   "outputs": [
    {
     "ename": "TypeError",
     "evalue": "'History' object is not subscriptable",
     "output_type": "error",
     "traceback": [
      "\u001b[1;31m---------------------------------------------------------------------------\u001b[0m",
      "\u001b[1;31mTypeError\u001b[0m                                 Traceback (most recent call last)",
      "\u001b[1;32m<ipython-input-39-d6f070c50d63>\u001b[0m in \u001b[0;36m<module>\u001b[1;34m\u001b[0m\n\u001b[0;32m      1\u001b[0m \u001b[1;31m# loss\u001b[0m\u001b[1;33m\u001b[0m\u001b[1;33m\u001b[0m\u001b[1;33m\u001b[0m\u001b[0m\n\u001b[0;32m      2\u001b[0m \u001b[1;32mimport\u001b[0m \u001b[0mmatplotlib\u001b[0m\u001b[1;33m.\u001b[0m\u001b[0mpyplot\u001b[0m \u001b[1;32mas\u001b[0m \u001b[0mplt\u001b[0m\u001b[1;33m\u001b[0m\u001b[1;33m\u001b[0m\u001b[0m\n\u001b[1;32m----> 3\u001b[1;33m \u001b[0mplt\u001b[0m\u001b[1;33m.\u001b[0m\u001b[0mplot\u001b[0m\u001b[1;33m(\u001b[0m\u001b[0mmodel\u001b[0m\u001b[1;33m.\u001b[0m\u001b[0mhistory\u001b[0m\u001b[1;33m[\u001b[0m\u001b[1;34m'accuracy'\u001b[0m\u001b[1;33m]\u001b[0m\u001b[1;33m,\u001b[0m \u001b[0mlabel\u001b[0m\u001b[1;33m=\u001b[0m\u001b[1;34m'train loss'\u001b[0m\u001b[1;33m)\u001b[0m\u001b[1;33m\u001b[0m\u001b[1;33m\u001b[0m\u001b[0m\n\u001b[0m\u001b[0;32m      4\u001b[0m \u001b[1;31m#plt.plot(r.history['val_loss'], label='val loss')\u001b[0m\u001b[1;33m\u001b[0m\u001b[1;33m\u001b[0m\u001b[1;33m\u001b[0m\u001b[0m\n\u001b[0;32m      5\u001b[0m \u001b[0mplt\u001b[0m\u001b[1;33m.\u001b[0m\u001b[0mlegend\u001b[0m\u001b[1;33m(\u001b[0m\u001b[1;33m)\u001b[0m\u001b[1;33m\u001b[0m\u001b[1;33m\u001b[0m\u001b[0m\n",
      "\u001b[1;31mTypeError\u001b[0m: 'History' object is not subscriptable"
     ]
    }
   ],
   "source": [
    "# loss\n",
    "import matplotlib.pyplot as plt\n",
    "plt.plot(model.history['accuracy'], label='train loss')\n",
    "#plt.plot(r.history['val_loss'], label='val loss')\n",
    "plt.legend()\n",
    "plt.show()\n",
    "plt.savefig('LossVal_loss')"
   ]
  }
 ],
 "metadata": {
  "kernelspec": {
   "display_name": "Python 3",
   "language": "python",
   "name": "python3"
  },
  "language_info": {
   "codemirror_mode": {
    "name": "ipython",
    "version": 3
   },
   "file_extension": ".py",
   "mimetype": "text/x-python",
   "name": "python",
   "nbconvert_exporter": "python",
   "pygments_lexer": "ipython3",
   "version": "3.8.8"
  }
 },
 "nbformat": 4,
 "nbformat_minor": 5
}
