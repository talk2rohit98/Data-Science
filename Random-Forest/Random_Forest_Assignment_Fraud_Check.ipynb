{
 "cells": [
  {
   "cell_type": "markdown",
   "id": "5d00f430",
   "metadata": {},
   "source": [
    "# Import Libraries"
   ]
  },
  {
   "cell_type": "code",
   "execution_count": 1,
   "id": "1c7e4125",
   "metadata": {},
   "outputs": [],
   "source": [
    "import pandas as pd\n",
    "import numpy as np\n",
    "import matplotlib.pyplot as plt\n",
    "%matplotlib inline\n",
    "import seaborn as sns\n",
    "from scipy import stats\n",
    "from sklearn.model_selection import train_test_split\n",
    "from sklearn.tree import  DecisionTreeClassifier\n",
    "from sklearn.tree import  DecisionTreeRegressor\n",
    "from sklearn import tree\n",
    "from sklearn.metrics import classification_report\n",
    "from sklearn import preprocessing\n",
    "from sklearn.linear_model import LogisticRegression\n",
    "\n",
    "from sklearn import tree\n",
    "from sklearn.metrics import classification_report\n",
    "from sklearn import preprocessing"
   ]
  },
  {
   "cell_type": "markdown",
   "id": "bbf0aaa4",
   "metadata": {},
   "source": [
    "# Import Data"
   ]
  },
  {
   "cell_type": "code",
   "execution_count": 2,
   "id": "3553afef",
   "metadata": {},
   "outputs": [
    {
     "data": {
      "text/html": [
       "<div>\n",
       "<style scoped>\n",
       "    .dataframe tbody tr th:only-of-type {\n",
       "        vertical-align: middle;\n",
       "    }\n",
       "\n",
       "    .dataframe tbody tr th {\n",
       "        vertical-align: top;\n",
       "    }\n",
       "\n",
       "    .dataframe thead th {\n",
       "        text-align: right;\n",
       "    }\n",
       "</style>\n",
       "<table border=\"1\" class=\"dataframe\">\n",
       "  <thead>\n",
       "    <tr style=\"text-align: right;\">\n",
       "      <th></th>\n",
       "      <th>Undergrad</th>\n",
       "      <th>Marital.Status</th>\n",
       "      <th>Taxable.Income</th>\n",
       "      <th>City.Population</th>\n",
       "      <th>Work.Experience</th>\n",
       "      <th>Urban</th>\n",
       "    </tr>\n",
       "  </thead>\n",
       "  <tbody>\n",
       "    <tr>\n",
       "      <th>0</th>\n",
       "      <td>NO</td>\n",
       "      <td>Single</td>\n",
       "      <td>68833</td>\n",
       "      <td>50047</td>\n",
       "      <td>10</td>\n",
       "      <td>YES</td>\n",
       "    </tr>\n",
       "    <tr>\n",
       "      <th>1</th>\n",
       "      <td>YES</td>\n",
       "      <td>Divorced</td>\n",
       "      <td>33700</td>\n",
       "      <td>134075</td>\n",
       "      <td>18</td>\n",
       "      <td>YES</td>\n",
       "    </tr>\n",
       "    <tr>\n",
       "      <th>2</th>\n",
       "      <td>NO</td>\n",
       "      <td>Married</td>\n",
       "      <td>36925</td>\n",
       "      <td>160205</td>\n",
       "      <td>30</td>\n",
       "      <td>YES</td>\n",
       "    </tr>\n",
       "    <tr>\n",
       "      <th>3</th>\n",
       "      <td>YES</td>\n",
       "      <td>Single</td>\n",
       "      <td>50190</td>\n",
       "      <td>193264</td>\n",
       "      <td>15</td>\n",
       "      <td>YES</td>\n",
       "    </tr>\n",
       "    <tr>\n",
       "      <th>4</th>\n",
       "      <td>NO</td>\n",
       "      <td>Married</td>\n",
       "      <td>81002</td>\n",
       "      <td>27533</td>\n",
       "      <td>28</td>\n",
       "      <td>NO</td>\n",
       "    </tr>\n",
       "  </tbody>\n",
       "</table>\n",
       "</div>"
      ],
      "text/plain": [
       "  Undergrad Marital.Status  Taxable.Income  City.Population  Work.Experience  \\\n",
       "0        NO         Single           68833            50047               10   \n",
       "1       YES       Divorced           33700           134075               18   \n",
       "2        NO        Married           36925           160205               30   \n",
       "3       YES         Single           50190           193264               15   \n",
       "4        NO        Married           81002            27533               28   \n",
       "\n",
       "  Urban  \n",
       "0   YES  \n",
       "1   YES  \n",
       "2   YES  \n",
       "3   YES  \n",
       "4    NO  "
      ]
     },
     "execution_count": 2,
     "metadata": {},
     "output_type": "execute_result"
    }
   ],
   "source": [
    "data = pd.read_csv('Fraud_check.csv',encoding='latin1')\n",
    "data.head()"
   ]
  },
  {
   "cell_type": "code",
   "execution_count": 3,
   "id": "244a809f",
   "metadata": {},
   "outputs": [
    {
     "name": "stdout",
     "output_type": "stream",
     "text": [
      "<class 'pandas.core.frame.DataFrame'>\n",
      "RangeIndex: 600 entries, 0 to 599\n",
      "Data columns (total 6 columns):\n",
      " #   Column           Non-Null Count  Dtype \n",
      "---  ------           --------------  ----- \n",
      " 0   Undergrad        600 non-null    object\n",
      " 1   Marital.Status   600 non-null    object\n",
      " 2   Taxable.Income   600 non-null    int64 \n",
      " 3   City.Population  600 non-null    int64 \n",
      " 4   Work.Experience  600 non-null    int64 \n",
      " 5   Urban            600 non-null    object\n",
      "dtypes: int64(3), object(3)\n",
      "memory usage: 28.2+ KB\n"
     ]
    }
   ],
   "source": [
    "data.info()"
   ]
  },
  {
   "cell_type": "code",
   "execution_count": 4,
   "id": "b13c3146",
   "metadata": {},
   "outputs": [
    {
     "data": {
      "text/html": [
       "<div>\n",
       "<style scoped>\n",
       "    .dataframe tbody tr th:only-of-type {\n",
       "        vertical-align: middle;\n",
       "    }\n",
       "\n",
       "    .dataframe tbody tr th {\n",
       "        vertical-align: top;\n",
       "    }\n",
       "\n",
       "    .dataframe thead th {\n",
       "        text-align: right;\n",
       "    }\n",
       "</style>\n",
       "<table border=\"1\" class=\"dataframe\">\n",
       "  <thead>\n",
       "    <tr style=\"text-align: right;\">\n",
       "      <th></th>\n",
       "      <th>Taxable.Income</th>\n",
       "      <th>City.Population</th>\n",
       "      <th>Work.Experience</th>\n",
       "    </tr>\n",
       "  </thead>\n",
       "  <tbody>\n",
       "    <tr>\n",
       "      <th>count</th>\n",
       "      <td>600.000000</td>\n",
       "      <td>600.000000</td>\n",
       "      <td>600.000000</td>\n",
       "    </tr>\n",
       "    <tr>\n",
       "      <th>mean</th>\n",
       "      <td>55208.375000</td>\n",
       "      <td>108747.368333</td>\n",
       "      <td>15.558333</td>\n",
       "    </tr>\n",
       "    <tr>\n",
       "      <th>std</th>\n",
       "      <td>26204.827597</td>\n",
       "      <td>49850.075134</td>\n",
       "      <td>8.842147</td>\n",
       "    </tr>\n",
       "    <tr>\n",
       "      <th>min</th>\n",
       "      <td>10003.000000</td>\n",
       "      <td>25779.000000</td>\n",
       "      <td>0.000000</td>\n",
       "    </tr>\n",
       "    <tr>\n",
       "      <th>25%</th>\n",
       "      <td>32871.500000</td>\n",
       "      <td>66966.750000</td>\n",
       "      <td>8.000000</td>\n",
       "    </tr>\n",
       "    <tr>\n",
       "      <th>50%</th>\n",
       "      <td>55074.500000</td>\n",
       "      <td>106493.500000</td>\n",
       "      <td>15.000000</td>\n",
       "    </tr>\n",
       "    <tr>\n",
       "      <th>75%</th>\n",
       "      <td>78611.750000</td>\n",
       "      <td>150114.250000</td>\n",
       "      <td>24.000000</td>\n",
       "    </tr>\n",
       "    <tr>\n",
       "      <th>max</th>\n",
       "      <td>99619.000000</td>\n",
       "      <td>199778.000000</td>\n",
       "      <td>30.000000</td>\n",
       "    </tr>\n",
       "  </tbody>\n",
       "</table>\n",
       "</div>"
      ],
      "text/plain": [
       "       Taxable.Income  City.Population  Work.Experience\n",
       "count      600.000000       600.000000       600.000000\n",
       "mean     55208.375000    108747.368333        15.558333\n",
       "std      26204.827597     49850.075134         8.842147\n",
       "min      10003.000000     25779.000000         0.000000\n",
       "25%      32871.500000     66966.750000         8.000000\n",
       "50%      55074.500000    106493.500000        15.000000\n",
       "75%      78611.750000    150114.250000        24.000000\n",
       "max      99619.000000    199778.000000        30.000000"
      ]
     },
     "execution_count": 4,
     "metadata": {},
     "output_type": "execute_result"
    }
   ],
   "source": [
    "data.describe()"
   ]
  },
  {
   "cell_type": "code",
   "execution_count": 5,
   "id": "ef282999",
   "metadata": {},
   "outputs": [
    {
     "data": {
      "text/plain": [
       "Undergrad          0\n",
       "Marital.Status     0\n",
       "Taxable.Income     0\n",
       "City.Population    0\n",
       "Work.Experience    0\n",
       "Urban              0\n",
       "dtype: int64"
      ]
     },
     "execution_count": 5,
     "metadata": {},
     "output_type": "execute_result"
    }
   ],
   "source": [
    "data.isna().sum()"
   ]
  },
  {
   "cell_type": "code",
   "execution_count": 6,
   "id": "9aeb3eef",
   "metadata": {},
   "outputs": [
    {
     "data": {
      "text/plain": [
       "(600, 6)"
      ]
     },
     "execution_count": 6,
     "metadata": {},
     "output_type": "execute_result"
    }
   ],
   "source": [
    "data.shape"
   ]
  },
  {
   "cell_type": "code",
   "execution_count": 7,
   "id": "53551579",
   "metadata": {},
   "outputs": [
    {
     "data": {
      "text/html": [
       "<div>\n",
       "<style scoped>\n",
       "    .dataframe tbody tr th:only-of-type {\n",
       "        vertical-align: middle;\n",
       "    }\n",
       "\n",
       "    .dataframe tbody tr th {\n",
       "        vertical-align: top;\n",
       "    }\n",
       "\n",
       "    .dataframe thead th {\n",
       "        text-align: right;\n",
       "    }\n",
       "</style>\n",
       "<table border=\"1\" class=\"dataframe\">\n",
       "  <thead>\n",
       "    <tr style=\"text-align: right;\">\n",
       "      <th></th>\n",
       "      <th>Undergrad</th>\n",
       "      <th>Marital.Status</th>\n",
       "      <th>Taxable.Income</th>\n",
       "      <th>City.Population</th>\n",
       "      <th>Work.Experience</th>\n",
       "      <th>Urban</th>\n",
       "    </tr>\n",
       "  </thead>\n",
       "  <tbody>\n",
       "    <tr>\n",
       "      <th>0</th>\n",
       "      <td>NO</td>\n",
       "      <td>Single</td>\n",
       "      <td>68833</td>\n",
       "      <td>50047</td>\n",
       "      <td>10</td>\n",
       "      <td>YES</td>\n",
       "    </tr>\n",
       "    <tr>\n",
       "      <th>1</th>\n",
       "      <td>YES</td>\n",
       "      <td>Divorced</td>\n",
       "      <td>33700</td>\n",
       "      <td>134075</td>\n",
       "      <td>18</td>\n",
       "      <td>YES</td>\n",
       "    </tr>\n",
       "    <tr>\n",
       "      <th>2</th>\n",
       "      <td>NO</td>\n",
       "      <td>Married</td>\n",
       "      <td>36925</td>\n",
       "      <td>160205</td>\n",
       "      <td>30</td>\n",
       "      <td>YES</td>\n",
       "    </tr>\n",
       "    <tr>\n",
       "      <th>3</th>\n",
       "      <td>YES</td>\n",
       "      <td>Single</td>\n",
       "      <td>50190</td>\n",
       "      <td>193264</td>\n",
       "      <td>15</td>\n",
       "      <td>YES</td>\n",
       "    </tr>\n",
       "    <tr>\n",
       "      <th>4</th>\n",
       "      <td>NO</td>\n",
       "      <td>Married</td>\n",
       "      <td>81002</td>\n",
       "      <td>27533</td>\n",
       "      <td>28</td>\n",
       "      <td>NO</td>\n",
       "    </tr>\n",
       "  </tbody>\n",
       "</table>\n",
       "</div>"
      ],
      "text/plain": [
       "  Undergrad Marital.Status  Taxable.Income  City.Population  Work.Experience  \\\n",
       "0        NO         Single           68833            50047               10   \n",
       "1       YES       Divorced           33700           134075               18   \n",
       "2        NO        Married           36925           160205               30   \n",
       "3       YES         Single           50190           193264               15   \n",
       "4        NO        Married           81002            27533               28   \n",
       "\n",
       "  Urban  \n",
       "0   YES  \n",
       "1   YES  \n",
       "2   YES  \n",
       "3   YES  \n",
       "4    NO  "
      ]
     },
     "execution_count": 7,
     "metadata": {},
     "output_type": "execute_result"
    }
   ],
   "source": [
    "df=data.copy()\n",
    "df.head()"
   ]
  },
  {
   "cell_type": "code",
   "execution_count": 8,
   "id": "f1e9f8f3",
   "metadata": {},
   "outputs": [
    {
     "name": "stderr",
     "output_type": "stream",
     "text": [
      "E:\\DS\\lib\\site-packages\\pandas\\core\\indexing.py:1637: SettingWithCopyWarning: \n",
      "A value is trying to be set on a copy of a slice from a DataFrame\n",
      "\n",
      "See the caveats in the documentation: https://pandas.pydata.org/pandas-docs/stable/user_guide/indexing.html#returning-a-view-versus-a-copy\n",
      "  self._setitem_single_block(indexer, value, name)\n"
     ]
    }
   ],
   "source": [
    "df.insert(6,'tax_class',\" \")\n",
    "\n",
    "for i in range(0,len(df['Taxable.Income']),1):\n",
    "    if df['Taxable.Income'].iloc[i]<=30000:\n",
    "        df['tax_class'].iloc[i]='Risky'\n",
    "    else:\n",
    "        df['tax_class'].iloc[i]='Good'"
   ]
  },
  {
   "cell_type": "code",
   "execution_count": 9,
   "id": "941fbb0e",
   "metadata": {},
   "outputs": [
    {
     "data": {
      "text/html": [
       "<div>\n",
       "<style scoped>\n",
       "    .dataframe tbody tr th:only-of-type {\n",
       "        vertical-align: middle;\n",
       "    }\n",
       "\n",
       "    .dataframe tbody tr th {\n",
       "        vertical-align: top;\n",
       "    }\n",
       "\n",
       "    .dataframe thead th {\n",
       "        text-align: right;\n",
       "    }\n",
       "</style>\n",
       "<table border=\"1\" class=\"dataframe\">\n",
       "  <thead>\n",
       "    <tr style=\"text-align: right;\">\n",
       "      <th></th>\n",
       "      <th>Undergrad</th>\n",
       "      <th>Marital.Status</th>\n",
       "      <th>Taxable.Income</th>\n",
       "      <th>City.Population</th>\n",
       "      <th>Work.Experience</th>\n",
       "      <th>Urban</th>\n",
       "      <th>tax_class</th>\n",
       "    </tr>\n",
       "  </thead>\n",
       "  <tbody>\n",
       "    <tr>\n",
       "      <th>0</th>\n",
       "      <td>NO</td>\n",
       "      <td>Single</td>\n",
       "      <td>68833</td>\n",
       "      <td>50047</td>\n",
       "      <td>10</td>\n",
       "      <td>YES</td>\n",
       "      <td>Good</td>\n",
       "    </tr>\n",
       "    <tr>\n",
       "      <th>1</th>\n",
       "      <td>YES</td>\n",
       "      <td>Divorced</td>\n",
       "      <td>33700</td>\n",
       "      <td>134075</td>\n",
       "      <td>18</td>\n",
       "      <td>YES</td>\n",
       "      <td>Good</td>\n",
       "    </tr>\n",
       "    <tr>\n",
       "      <th>2</th>\n",
       "      <td>NO</td>\n",
       "      <td>Married</td>\n",
       "      <td>36925</td>\n",
       "      <td>160205</td>\n",
       "      <td>30</td>\n",
       "      <td>YES</td>\n",
       "      <td>Good</td>\n",
       "    </tr>\n",
       "    <tr>\n",
       "      <th>3</th>\n",
       "      <td>YES</td>\n",
       "      <td>Single</td>\n",
       "      <td>50190</td>\n",
       "      <td>193264</td>\n",
       "      <td>15</td>\n",
       "      <td>YES</td>\n",
       "      <td>Good</td>\n",
       "    </tr>\n",
       "    <tr>\n",
       "      <th>4</th>\n",
       "      <td>NO</td>\n",
       "      <td>Married</td>\n",
       "      <td>81002</td>\n",
       "      <td>27533</td>\n",
       "      <td>28</td>\n",
       "      <td>NO</td>\n",
       "      <td>Good</td>\n",
       "    </tr>\n",
       "  </tbody>\n",
       "</table>\n",
       "</div>"
      ],
      "text/plain": [
       "  Undergrad Marital.Status  Taxable.Income  City.Population  Work.Experience  \\\n",
       "0        NO         Single           68833            50047               10   \n",
       "1       YES       Divorced           33700           134075               18   \n",
       "2        NO        Married           36925           160205               30   \n",
       "3       YES         Single           50190           193264               15   \n",
       "4        NO        Married           81002            27533               28   \n",
       "\n",
       "  Urban tax_class  \n",
       "0   YES      Good  \n",
       "1   YES      Good  \n",
       "2   YES      Good  \n",
       "3   YES      Good  \n",
       "4    NO      Good  "
      ]
     },
     "execution_count": 9,
     "metadata": {},
     "output_type": "execute_result"
    }
   ],
   "source": [
    "df.head()"
   ]
  },
  {
   "cell_type": "code",
   "execution_count": 10,
   "id": "9cc0e584",
   "metadata": {},
   "outputs": [
    {
     "data": {
      "text/plain": [
       "Good     476\n",
       "Risky    124\n",
       "Name: tax_class, dtype: int64"
      ]
     },
     "execution_count": 10,
     "metadata": {},
     "output_type": "execute_result"
    }
   ],
   "source": [
    "df.tax_class.value_counts()"
   ]
  },
  {
   "cell_type": "code",
   "execution_count": 11,
   "id": "f2959036",
   "metadata": {},
   "outputs": [
    {
     "data": {
      "text/html": [
       "<div>\n",
       "<style scoped>\n",
       "    .dataframe tbody tr th:only-of-type {\n",
       "        vertical-align: middle;\n",
       "    }\n",
       "\n",
       "    .dataframe tbody tr th {\n",
       "        vertical-align: top;\n",
       "    }\n",
       "\n",
       "    .dataframe thead th {\n",
       "        text-align: right;\n",
       "    }\n",
       "</style>\n",
       "<table border=\"1\" class=\"dataframe\">\n",
       "  <thead>\n",
       "    <tr style=\"text-align: right;\">\n",
       "      <th></th>\n",
       "      <th>Undergrad</th>\n",
       "      <th>Marital.Status</th>\n",
       "      <th>City.Population</th>\n",
       "      <th>Work.Experience</th>\n",
       "      <th>Urban</th>\n",
       "      <th>tax_class</th>\n",
       "    </tr>\n",
       "  </thead>\n",
       "  <tbody>\n",
       "    <tr>\n",
       "      <th>0</th>\n",
       "      <td>NO</td>\n",
       "      <td>Single</td>\n",
       "      <td>50047</td>\n",
       "      <td>10</td>\n",
       "      <td>YES</td>\n",
       "      <td>Good</td>\n",
       "    </tr>\n",
       "    <tr>\n",
       "      <th>1</th>\n",
       "      <td>YES</td>\n",
       "      <td>Divorced</td>\n",
       "      <td>134075</td>\n",
       "      <td>18</td>\n",
       "      <td>YES</td>\n",
       "      <td>Good</td>\n",
       "    </tr>\n",
       "    <tr>\n",
       "      <th>2</th>\n",
       "      <td>NO</td>\n",
       "      <td>Married</td>\n",
       "      <td>160205</td>\n",
       "      <td>30</td>\n",
       "      <td>YES</td>\n",
       "      <td>Good</td>\n",
       "    </tr>\n",
       "    <tr>\n",
       "      <th>3</th>\n",
       "      <td>YES</td>\n",
       "      <td>Single</td>\n",
       "      <td>193264</td>\n",
       "      <td>15</td>\n",
       "      <td>YES</td>\n",
       "      <td>Good</td>\n",
       "    </tr>\n",
       "    <tr>\n",
       "      <th>4</th>\n",
       "      <td>NO</td>\n",
       "      <td>Married</td>\n",
       "      <td>27533</td>\n",
       "      <td>28</td>\n",
       "      <td>NO</td>\n",
       "      <td>Good</td>\n",
       "    </tr>\n",
       "  </tbody>\n",
       "</table>\n",
       "</div>"
      ],
      "text/plain": [
       "  Undergrad Marital.Status  City.Population  Work.Experience Urban tax_class\n",
       "0        NO         Single            50047               10   YES      Good\n",
       "1       YES       Divorced           134075               18   YES      Good\n",
       "2        NO        Married           160205               30   YES      Good\n",
       "3       YES         Single           193264               15   YES      Good\n",
       "4        NO        Married            27533               28    NO      Good"
      ]
     },
     "execution_count": 11,
     "metadata": {},
     "output_type": "execute_result"
    }
   ],
   "source": [
    "df.drop(['Taxable.Income'],axis=1,inplace=True)\n",
    "df.head()"
   ]
  },
  {
   "cell_type": "code",
   "execution_count": 12,
   "id": "f1532799",
   "metadata": {},
   "outputs": [],
   "source": [
    "label_encoder = preprocessing.LabelEncoder()\n",
    "df['Undergrad']= label_encoder.fit_transform(df['Undergrad'])\n",
    "df['Marital.Status']= label_encoder.fit_transform(df['Marital.Status'])\n",
    "df['Urban']= label_encoder.fit_transform(df['Urban'])\n",
    "df['tax_class']= label_encoder.fit_transform(df['tax_class'])"
   ]
  },
  {
   "cell_type": "code",
   "execution_count": 13,
   "id": "f36c1c3a",
   "metadata": {},
   "outputs": [
    {
     "data": {
      "text/html": [
       "<div>\n",
       "<style scoped>\n",
       "    .dataframe tbody tr th:only-of-type {\n",
       "        vertical-align: middle;\n",
       "    }\n",
       "\n",
       "    .dataframe tbody tr th {\n",
       "        vertical-align: top;\n",
       "    }\n",
       "\n",
       "    .dataframe thead th {\n",
       "        text-align: right;\n",
       "    }\n",
       "</style>\n",
       "<table border=\"1\" class=\"dataframe\">\n",
       "  <thead>\n",
       "    <tr style=\"text-align: right;\">\n",
       "      <th></th>\n",
       "      <th>Undergrad</th>\n",
       "      <th>Marital.Status</th>\n",
       "      <th>City.Population</th>\n",
       "      <th>Work.Experience</th>\n",
       "      <th>Urban</th>\n",
       "      <th>tax_class</th>\n",
       "    </tr>\n",
       "  </thead>\n",
       "  <tbody>\n",
       "    <tr>\n",
       "      <th>0</th>\n",
       "      <td>0</td>\n",
       "      <td>2</td>\n",
       "      <td>50047</td>\n",
       "      <td>10</td>\n",
       "      <td>1</td>\n",
       "      <td>0</td>\n",
       "    </tr>\n",
       "    <tr>\n",
       "      <th>1</th>\n",
       "      <td>1</td>\n",
       "      <td>0</td>\n",
       "      <td>134075</td>\n",
       "      <td>18</td>\n",
       "      <td>1</td>\n",
       "      <td>0</td>\n",
       "    </tr>\n",
       "    <tr>\n",
       "      <th>2</th>\n",
       "      <td>0</td>\n",
       "      <td>1</td>\n",
       "      <td>160205</td>\n",
       "      <td>30</td>\n",
       "      <td>1</td>\n",
       "      <td>0</td>\n",
       "    </tr>\n",
       "    <tr>\n",
       "      <th>3</th>\n",
       "      <td>1</td>\n",
       "      <td>2</td>\n",
       "      <td>193264</td>\n",
       "      <td>15</td>\n",
       "      <td>1</td>\n",
       "      <td>0</td>\n",
       "    </tr>\n",
       "    <tr>\n",
       "      <th>4</th>\n",
       "      <td>0</td>\n",
       "      <td>1</td>\n",
       "      <td>27533</td>\n",
       "      <td>28</td>\n",
       "      <td>0</td>\n",
       "      <td>0</td>\n",
       "    </tr>\n",
       "  </tbody>\n",
       "</table>\n",
       "</div>"
      ],
      "text/plain": [
       "   Undergrad  Marital.Status  City.Population  Work.Experience  Urban  \\\n",
       "0          0               2            50047               10      1   \n",
       "1          1               0           134075               18      1   \n",
       "2          0               1           160205               30      1   \n",
       "3          1               2           193264               15      1   \n",
       "4          0               1            27533               28      0   \n",
       "\n",
       "   tax_class  \n",
       "0          0  \n",
       "1          0  \n",
       "2          0  \n",
       "3          0  \n",
       "4          0  "
      ]
     },
     "execution_count": 13,
     "metadata": {},
     "output_type": "execute_result"
    }
   ],
   "source": [
    "df.head()\n"
   ]
  },
  {
   "cell_type": "code",
   "execution_count": 14,
   "id": "11385246",
   "metadata": {},
   "outputs": [],
   "source": [
    "from sklearn.preprocessing import StandardScaler\n",
    "from sklearn.preprocessing import scale\n",
    "from sklearn import preprocessing"
   ]
  },
  {
   "cell_type": "code",
   "execution_count": 15,
   "id": "9fb3f75d",
   "metadata": {},
   "outputs": [
    {
     "data": {
      "text/html": [
       "<div>\n",
       "<style scoped>\n",
       "    .dataframe tbody tr th:only-of-type {\n",
       "        vertical-align: middle;\n",
       "    }\n",
       "\n",
       "    .dataframe tbody tr th {\n",
       "        vertical-align: top;\n",
       "    }\n",
       "\n",
       "    .dataframe thead th {\n",
       "        text-align: right;\n",
       "    }\n",
       "</style>\n",
       "<table border=\"1\" class=\"dataframe\">\n",
       "  <thead>\n",
       "    <tr style=\"text-align: right;\">\n",
       "      <th></th>\n",
       "      <th>Undergrad</th>\n",
       "      <th>Marital.Status</th>\n",
       "      <th>City.Population</th>\n",
       "      <th>Work.Experience</th>\n",
       "      <th>Urban</th>\n",
       "      <th>tax_class</th>\n",
       "    </tr>\n",
       "  </thead>\n",
       "  <tbody>\n",
       "    <tr>\n",
       "      <th>0</th>\n",
       "      <td>0</td>\n",
       "      <td>2</td>\n",
       "      <td>-1.178521</td>\n",
       "      <td>-0.629143</td>\n",
       "      <td>1</td>\n",
       "      <td>0</td>\n",
       "    </tr>\n",
       "    <tr>\n",
       "      <th>1</th>\n",
       "      <td>1</td>\n",
       "      <td>0</td>\n",
       "      <td>0.508500</td>\n",
       "      <td>0.276370</td>\n",
       "      <td>1</td>\n",
       "      <td>0</td>\n",
       "    </tr>\n",
       "    <tr>\n",
       "      <th>2</th>\n",
       "      <td>0</td>\n",
       "      <td>1</td>\n",
       "      <td>1.033109</td>\n",
       "      <td>1.634639</td>\n",
       "      <td>1</td>\n",
       "      <td>0</td>\n",
       "    </tr>\n",
       "    <tr>\n",
       "      <th>3</th>\n",
       "      <td>1</td>\n",
       "      <td>2</td>\n",
       "      <td>1.696831</td>\n",
       "      <td>-0.063197</td>\n",
       "      <td>1</td>\n",
       "      <td>0</td>\n",
       "    </tr>\n",
       "    <tr>\n",
       "      <th>4</th>\n",
       "      <td>0</td>\n",
       "      <td>1</td>\n",
       "      <td>-1.630532</td>\n",
       "      <td>1.408261</td>\n",
       "      <td>0</td>\n",
       "      <td>0</td>\n",
       "    </tr>\n",
       "    <tr>\n",
       "      <th>...</th>\n",
       "      <td>...</td>\n",
       "      <td>...</td>\n",
       "      <td>...</td>\n",
       "      <td>...</td>\n",
       "      <td>...</td>\n",
       "      <td>...</td>\n",
       "    </tr>\n",
       "    <tr>\n",
       "      <th>595</th>\n",
       "      <td>1</td>\n",
       "      <td>0</td>\n",
       "      <td>-1.390432</td>\n",
       "      <td>-0.968710</td>\n",
       "      <td>1</td>\n",
       "      <td>0</td>\n",
       "    </tr>\n",
       "    <tr>\n",
       "      <th>596</th>\n",
       "      <td>1</td>\n",
       "      <td>0</td>\n",
       "      <td>-1.071672</td>\n",
       "      <td>-1.534655</td>\n",
       "      <td>1</td>\n",
       "      <td>0</td>\n",
       "    </tr>\n",
       "    <tr>\n",
       "      <th>597</th>\n",
       "      <td>0</td>\n",
       "      <td>0</td>\n",
       "      <td>0.909696</td>\n",
       "      <td>-1.761033</td>\n",
       "      <td>1</td>\n",
       "      <td>0</td>\n",
       "    </tr>\n",
       "    <tr>\n",
       "      <th>598</th>\n",
       "      <td>1</td>\n",
       "      <td>1</td>\n",
       "      <td>1.432197</td>\n",
       "      <td>0.163181</td>\n",
       "      <td>0</td>\n",
       "      <td>0</td>\n",
       "    </tr>\n",
       "    <tr>\n",
       "      <th>599</th>\n",
       "      <td>0</td>\n",
       "      <td>0</td>\n",
       "      <td>0.991590</td>\n",
       "      <td>0.049992</td>\n",
       "      <td>0</td>\n",
       "      <td>0</td>\n",
       "    </tr>\n",
       "  </tbody>\n",
       "</table>\n",
       "<p>600 rows × 6 columns</p>\n",
       "</div>"
      ],
      "text/plain": [
       "     Undergrad  Marital.Status  City.Population  Work.Experience  Urban  \\\n",
       "0            0               2        -1.178521        -0.629143      1   \n",
       "1            1               0         0.508500         0.276370      1   \n",
       "2            0               1         1.033109         1.634639      1   \n",
       "3            1               2         1.696831        -0.063197      1   \n",
       "4            0               1        -1.630532         1.408261      0   \n",
       "..         ...             ...              ...              ...    ...   \n",
       "595          1               0        -1.390432        -0.968710      1   \n",
       "596          1               0        -1.071672        -1.534655      1   \n",
       "597          0               0         0.909696        -1.761033      1   \n",
       "598          1               1         1.432197         0.163181      0   \n",
       "599          0               0         0.991590         0.049992      0   \n",
       "\n",
       "     tax_class  \n",
       "0            0  \n",
       "1            0  \n",
       "2            0  \n",
       "3            0  \n",
       "4            0  \n",
       "..         ...  \n",
       "595          0  \n",
       "596          0  \n",
       "597          0  \n",
       "598          0  \n",
       "599          0  \n",
       "\n",
       "[600 rows x 6 columns]"
      ]
     },
     "execution_count": 15,
     "metadata": {},
     "output_type": "execute_result"
    }
   ],
   "source": [
    "df.iloc[:,2:4]=StandardScaler().fit_transform(df.iloc[:,2:4])\n",
    "df"
   ]
  },
  {
   "cell_type": "markdown",
   "id": "6c1ef6d1",
   "metadata": {},
   "source": [
    "# Visualization"
   ]
  },
  {
   "cell_type": "code",
   "execution_count": 16,
   "id": "d8a2dd20",
   "metadata": {},
   "outputs": [
    {
     "data": {
      "text/plain": [
       "array([[<AxesSubplot:title={'center':'Undergrad'}>,\n",
       "        <AxesSubplot:title={'center':'Marital.Status'}>],\n",
       "       [<AxesSubplot:title={'center':'City.Population'}>,\n",
       "        <AxesSubplot:title={'center':'Work.Experience'}>],\n",
       "       [<AxesSubplot:title={'center':'Urban'}>,\n",
       "        <AxesSubplot:title={'center':'tax_class'}>]], dtype=object)"
      ]
     },
     "execution_count": 16,
     "metadata": {},
     "output_type": "execute_result"
    },
    {
     "data": {
      "image/png": "[encoded data removed]",
      "text/plain": [
       "<Figure size 720x720 with 6 Axes>"
      ]
     },
     "metadata": {
      "needs_background": "light"
     },
     "output_type": "display_data"
    }
   ],
   "source": [
    "df.hist(edgecolor='black', linewidth=1.2, figsize=(10, 10))"
   ]
  },
  {
   "cell_type": "code",
   "execution_count": 17,
   "id": "ebe5ac8e",
   "metadata": {},
   "outputs": [
    {
     "data": {
      "text/plain": [
       "<AxesSubplot:>"
      ]
     },
     "execution_count": 17,
     "metadata": {},
     "output_type": "execute_result"
    },
    {
     "data": {
      "image/png": "[encoded data removed]",
      "text/plain": [
       "<Figure size 864x720 with 2 Axes>"
      ]
     },
     "metadata": {
      "needs_background": "light"
     },
     "output_type": "display_data"
    }
   ],
   "source": [
    "plt.figure(figsize=(12,10))\n",
    "import seaborn as sns\n",
    "sns.heatmap(df.corr(),annot=True,cmap='terrain')"
   ]
  },
  {
   "cell_type": "code",
   "execution_count": 18,
   "id": "bb59648c",
   "metadata": {},
   "outputs": [
    {
     "data": {
      "text/html": [
       "<div>\n",
       "<style scoped>\n",
       "    .dataframe tbody tr th:only-of-type {\n",
       "        vertical-align: middle;\n",
       "    }\n",
       "\n",
       "    .dataframe tbody tr th {\n",
       "        vertical-align: top;\n",
       "    }\n",
       "\n",
       "    .dataframe thead th {\n",
       "        text-align: right;\n",
       "    }\n",
       "</style>\n",
       "<table border=\"1\" class=\"dataframe\">\n",
       "  <thead>\n",
       "    <tr style=\"text-align: right;\">\n",
       "      <th></th>\n",
       "      <th>Undergrad</th>\n",
       "      <th>Marital.Status</th>\n",
       "      <th>City.Population</th>\n",
       "      <th>Work.Experience</th>\n",
       "      <th>Urban</th>\n",
       "      <th>tax_class</th>\n",
       "    </tr>\n",
       "  </thead>\n",
       "  <tbody>\n",
       "    <tr>\n",
       "      <th>0</th>\n",
       "      <td>0</td>\n",
       "      <td>2</td>\n",
       "      <td>-1.178521</td>\n",
       "      <td>-0.629143</td>\n",
       "      <td>1</td>\n",
       "      <td>0</td>\n",
       "    </tr>\n",
       "    <tr>\n",
       "      <th>1</th>\n",
       "      <td>1</td>\n",
       "      <td>0</td>\n",
       "      <td>0.508500</td>\n",
       "      <td>0.276370</td>\n",
       "      <td>1</td>\n",
       "      <td>0</td>\n",
       "    </tr>\n",
       "    <tr>\n",
       "      <th>2</th>\n",
       "      <td>0</td>\n",
       "      <td>1</td>\n",
       "      <td>1.033109</td>\n",
       "      <td>1.634639</td>\n",
       "      <td>1</td>\n",
       "      <td>0</td>\n",
       "    </tr>\n",
       "    <tr>\n",
       "      <th>3</th>\n",
       "      <td>1</td>\n",
       "      <td>2</td>\n",
       "      <td>1.696831</td>\n",
       "      <td>-0.063197</td>\n",
       "      <td>1</td>\n",
       "      <td>0</td>\n",
       "    </tr>\n",
       "    <tr>\n",
       "      <th>4</th>\n",
       "      <td>0</td>\n",
       "      <td>1</td>\n",
       "      <td>-1.630532</td>\n",
       "      <td>1.408261</td>\n",
       "      <td>0</td>\n",
       "      <td>0</td>\n",
       "    </tr>\n",
       "  </tbody>\n",
       "</table>\n",
       "</div>"
      ],
      "text/plain": [
       "   Undergrad  Marital.Status  City.Population  Work.Experience  Urban  \\\n",
       "0          0               2        -1.178521        -0.629143      1   \n",
       "1          1               0         0.508500         0.276370      1   \n",
       "2          0               1         1.033109         1.634639      1   \n",
       "3          1               2         1.696831        -0.063197      1   \n",
       "4          0               1        -1.630532         1.408261      0   \n",
       "\n",
       "   tax_class  \n",
       "0          0  \n",
       "1          0  \n",
       "2          0  \n",
       "3          0  \n",
       "4          0  "
      ]
     },
     "execution_count": 18,
     "metadata": {},
     "output_type": "execute_result"
    }
   ],
   "source": [
    "pdata=df.copy()\n",
    "pdata.head()"
   ]
  },
  {
   "cell_type": "code",
   "execution_count": 19,
   "id": "ef0fa3ea",
   "metadata": {},
   "outputs": [
    {
     "data": {
      "text/plain": [
       "0    476\n",
       "1    124\n",
       "Name: tax_class, dtype: int64"
      ]
     },
     "execution_count": 19,
     "metadata": {},
     "output_type": "execute_result"
    }
   ],
   "source": [
    "x=pdata.iloc[:,0:-1]\n",
    "y=pdata['tax_class']\n",
    "y.value_counts()"
   ]
  },
  {
   "cell_type": "markdown",
   "id": "7bfe72a4",
   "metadata": {},
   "source": [
    "# Model building using Random forest\n"
   ]
  },
  {
   "cell_type": "code",
   "execution_count": 20,
   "id": "025800a6",
   "metadata": {},
   "outputs": [],
   "source": [
    "x_train, x_test, y_train, y_test = train_test_split(x,y,test_size = 0.2,random_state=42)\n",
    "from sklearn.ensemble import RandomForestClassifier "
   ]
  },
  {
   "cell_type": "code",
   "execution_count": 21,
   "id": "95fa1525",
   "metadata": {},
   "outputs": [
    {
     "name": "stdout",
     "output_type": "stream",
     "text": [
      "0.7583333333333333\n"
     ]
    }
   ],
   "source": [
    "modelb=RandomForestClassifier()\n",
    "modelb.fit(x_train,y_train)\n",
    "pred=modelb.predict(x_test)\n",
    "print(np.mean(y_test==pred))"
   ]
  },
  {
   "cell_type": "markdown",
   "id": "c893de88",
   "metadata": {},
   "source": [
    "# Grid Search Optimisation"
   ]
  },
  {
   "cell_type": "code",
   "execution_count": 22,
   "id": "c8e8ea8e",
   "metadata": {},
   "outputs": [
    {
     "name": "stdout",
     "output_type": "stream",
     "text": [
      "0.7983333333333333\n"
     ]
    }
   ],
   "source": [
    "modelb=RandomForestClassifier(criterion='gini',max_depth= 19,max_leaf_nodes=19,n_estimators=1000)\n",
    "modelb.fit(x,y)\n",
    "pred=modelb.predict(x)\n",
    "print(np.mean(y==pred))"
   ]
  },
  {
   "cell_type": "code",
   "execution_count": 23,
   "id": "9104f8c7",
   "metadata": {},
   "outputs": [
    {
     "name": "stdout",
     "output_type": "stream",
     "text": [
      "0.7979166666666667\n"
     ]
    }
   ],
   "source": [
    "modelb=RandomForestClassifier(criterion='gini',max_depth= 19,max_leaf_nodes=19,n_estimators=1000)\n",
    "modelb.fit(x_train,y_train)\n",
    "pred=modelb.predict(x_train)\n",
    "print(np.mean(y_train==pred))"
   ]
  },
  {
   "cell_type": "markdown",
   "id": "30eb1174",
   "metadata": {},
   "source": [
    "# Applying K-Fold cross Validation"
   ]
  },
  {
   "cell_type": "code",
   "execution_count": 24,
   "id": "6ff40101",
   "metadata": {},
   "outputs": [
    {
     "name": "stdout",
     "output_type": "stream",
     "text": [
      "0.7933333333333332\n"
     ]
    }
   ],
   "source": [
    "from sklearn.model_selection import KFold\n",
    "from sklearn.model_selection import cross_val_score\n",
    "kfold=KFold(n_splits=10)\n",
    "results=cross_val_score(modelb,x,y,cv=kfold)\n",
    "print(results.mean())"
   ]
  },
  {
   "cell_type": "markdown",
   "id": "5711b65b",
   "metadata": {},
   "source": [
    "# Bagging\n"
   ]
  },
  {
   "cell_type": "code",
   "execution_count": 25,
   "id": "ae783a8c",
   "metadata": {},
   "outputs": [
    {
     "name": "stdout",
     "output_type": "stream",
     "text": [
      "0.7933333333333332\n"
     ]
    }
   ],
   "source": [
    "modelb1=RandomForestClassifier(n_estimators=500,criterion='entropy',max_leaf_nodes=19,max_depth=19)\n",
    "from sklearn.ensemble import BaggingClassifier\n",
    "model=BaggingClassifier(base_estimator=modelb1)\n",
    "results=cross_val_score(model,x,y,cv=kfold)\n",
    "print(results.mean())"
   ]
  },
  {
   "cell_type": "markdown",
   "id": "b0aeb8cf",
   "metadata": {},
   "source": [
    "# Boosting"
   ]
  },
  {
   "cell_type": "code",
   "execution_count": 26,
   "id": "e89c9cdd",
   "metadata": {},
   "outputs": [
    {
     "name": "stdout",
     "output_type": "stream",
     "text": [
      "0.7566666666666666\n"
     ]
    }
   ],
   "source": [
    "from sklearn.ensemble import AdaBoostClassifier\n",
    "model=AdaBoostClassifier(base_estimator=modelb)\n",
    "results=cross_val_score(model,x,y,cv=kfold)\n",
    "print(results.mean())"
   ]
  },
  {
   "cell_type": "markdown",
   "id": "842836e1",
   "metadata": {},
   "source": [
    "# Voting Classifier"
   ]
  },
  {
   "cell_type": "code",
   "execution_count": 27,
   "id": "a808f227",
   "metadata": {},
   "outputs": [
    {
     "name": "stdout",
     "output_type": "stream",
     "text": [
      "[0.78333333 0.76666667 0.71666667 0.75       0.81666667 0.71666667\n",
      " 0.9        0.75       0.85       0.88333333]\n"
     ]
    }
   ],
   "source": [
    "from sklearn.ensemble import VotingClassifier\n",
    "from sklearn.svm import SVC\n",
    "estimators=[]\n",
    "model1=LogisticRegression(max_iter=500,solver='liblinear')\n",
    "estimators.append(('logistic',model1))\n",
    "model2=DecisionTreeClassifier()\n",
    "estimators.append(('cart',model2))\n",
    "model3=SVC()\n",
    "estimators.append(('svm',model3))\n",
    "model4=AdaBoostClassifier(base_estimator=modelb1)\n",
    "estimators.append(('adaboost',model4))\n",
    "model5=BaggingClassifier(base_estimator=modelb1)\n",
    "estimators.append(('bagging',model5))\n",
    "model6=RandomForestClassifier(n_estimators=500,criterion='entropy',max_leaf_nodes=19,max_depth=19)\n",
    "estimators.append(('RandomForest',model6))\n",
    "\n",
    "ensemble=VotingClassifier(estimators)\n",
    "results=cross_val_score(ensemble,x,y,cv=kfold)\n",
    "print(results)"
   ]
  },
  {
   "cell_type": "code",
   "execution_count": 28,
   "id": "0c743b26",
   "metadata": {},
   "outputs": [
    {
     "name": "stdout",
     "output_type": "stream",
     "text": [
      "0.7933333333333332\n"
     ]
    }
   ],
   "source": [
    "print(results.mean())"
   ]
  },
  {
   "cell_type": "markdown",
   "id": "0c15a861",
   "metadata": {},
   "source": [
    "# XGBM"
   ]
  },
  {
   "cell_type": "code",
   "execution_count": 29,
   "id": "7efc3a13",
   "metadata": {},
   "outputs": [],
   "source": [
    "from tqdm.notebook import tqdm, trange\n",
    "import time\n",
    "# First XGBoost model for dataset\n",
    "from numpy import loadtxt\n",
    "from xgboost import XGBClassifier\n",
    "from sklearn.model_selection import train_test_split\n",
    "from sklearn.metrics import accuracy_score"
   ]
  },
  {
   "cell_type": "code",
   "execution_count": 30,
   "id": "b4a485a8",
   "metadata": {},
   "outputs": [
    {
     "data": {
      "text/plain": [
       "XGBClassifier(base_score=0.5, booster='gbtree', callbacks=None,\n",
       "              colsample_bylevel=1, colsample_bynode=1, colsample_bytree=1,\n",
       "              early_stopping_rounds=None, enable_categorical=False,\n",
       "              eval_metric=None, gamma=0, gpu_id=-1, grow_policy='depthwise',\n",
       "              importance_type=None, interaction_constraints='',\n",
       "              learning_rate=0.300000012, max_bin=256, max_cat_to_onehot=4,\n",
       "              max_delta_step=0, max_depth=6, max_leaves=0, min_child_weight=1,\n",
       "              missing=nan, monotone_constraints='()', n_estimators=100,\n",
       "              n_jobs=0, num_parallel_tree=1, predictor='auto', random_state=0,\n",
       "              reg_alpha=0, reg_lambda=1, ...)"
      ]
     },
     "execution_count": 30,
     "metadata": {},
     "output_type": "execute_result"
    }
   ],
   "source": [
    "xgmodel = XGBClassifier()\n",
    "xgmodel.fit(x_train, y_train)"
   ]
  },
  {
   "cell_type": "code",
   "execution_count": 31,
   "id": "8d8b98a9",
   "metadata": {},
   "outputs": [],
   "source": [
    "y_pred = xgmodel.predict(x_test)\n",
    "predictions = [round(value) for value in y_pred]"
   ]
  },
  {
   "cell_type": "code",
   "execution_count": 32,
   "id": "f1b19ba2",
   "metadata": {},
   "outputs": [],
   "source": [
    "y_pred1 = xgmodel.predict(x_train)\n",
    "predictions1 = [round(value) for value in y_pred1]"
   ]
  },
  {
   "cell_type": "code",
   "execution_count": 33,
   "id": "d0907e63",
   "metadata": {},
   "outputs": [
    {
     "name": "stdout",
     "output_type": "stream",
     "text": [
      "Accuracy: 70.83%\n"
     ]
    }
   ],
   "source": [
    "accuracy = accuracy_score(y_test, predictions)\n",
    "print(\"Accuracy: %.2f%%\" % (accuracy * 100.0))"
   ]
  },
  {
   "cell_type": "code",
   "execution_count": 34,
   "id": "2139e944",
   "metadata": {},
   "outputs": [
    {
     "name": "stdout",
     "output_type": "stream",
     "text": [
      "Accuracy: 100.00%\n"
     ]
    }
   ],
   "source": [
    "accuracy = accuracy_score(y_train, predictions1)\n",
    "print(\"Accuracy: %.2f%%\" % (accuracy * 100.0))"
   ]
  },
  {
   "cell_type": "code",
   "execution_count": null,
   "id": "adef5dcf",
   "metadata": {},
   "outputs": [],
   "source": []
  },
  {
   "cell_type": "code",
   "execution_count": null,
   "id": "5cdef561",
   "metadata": {},
   "outputs": [],
   "source": []
  },
  {
   "cell_type": "code",
   "execution_count": null,
   "id": "4c11c376",
   "metadata": {},
   "outputs": [],
   "source": []
  },
  {
   "cell_type": "code",
   "execution_count": null,
   "id": "54e9950f",
   "metadata": {},
   "outputs": [],
   "source": []
  },
  {
   "cell_type": "code",
   "execution_count": null,
   "id": "a20df4d0",
   "metadata": {},
   "outputs": [],
   "source": []
  },
  {
   "cell_type": "code",
   "execution_count": null,
   "id": "237d7d82",
   "metadata": {},
   "outputs": [],
   "source": []
  },
  {
   "cell_type": "code",
   "execution_count": null,
   "id": "b5ad077a",
   "metadata": {},
   "outputs": [],
   "source": []
  },
  {
   "cell_type": "code",
   "execution_count": null,
   "id": "30396ff9",
   "metadata": {},
   "outputs": [],
   "source": []
  }
 ],
 "metadata": {
  "kernelspec": {
   "display_name": "Python 3",
   "language": "python",
   "name": "python3"
  },
  "language_info": {
   "codemirror_mode": {
    "name": "ipython",
    "version": 3
   },
   "file_extension": ".py",
   "mimetype": "text/x-python",
   "name": "python",
   "nbconvert_exporter": "python",
   "pygments_lexer": "ipython3",
   "version": "3.8.8"
  }
 },
 "nbformat": 4,
 "nbformat_minor": 5
}
